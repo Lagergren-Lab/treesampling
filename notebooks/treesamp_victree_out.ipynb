{
 "cells": [
  {
   "cell_type": "markdown",
   "source": [
    "# Analysis of VICTree output tree matrix"
   ],
   "metadata": {
    "collapsed": false
   },
   "id": "b08d8a20166d615b"
  },
  {
   "cell_type": "code",
   "execution_count": 1,
   "outputs": [],
   "source": [
    "import h5py\n",
    "import numpy as np\n",
    "import networkx as nx\n",
    "import seaborn as sns\n",
    "from treesampling.algorithms import random_spanning_tree_log\n",
    "from treesampling.utils.graphs import reset_adj_matrix, tree_to_newick"
   ],
   "metadata": {
    "collapsed": false,
    "ExecuteTime": {
     "end_time": "2024-03-18T18:14:00.237416Z",
     "start_time": "2024-03-18T18:14:00.014279Z"
    }
   },
   "id": "initial_id"
  },
  {
   "cell_type": "code",
   "execution_count": 2,
   "outputs": [],
   "source": [
    "# load h5 file\n",
    "vic_out = h5py.File(\"/Users/zemp/phd/scilife/victree-experiments/SA501X3F/victree-out/K12/victree.out.h5ad\", 'r')\n",
    "graph_matrix = vic_out['uns']['victree-tree-graph'][:]\n",
    "# tempering:\n",
    "# graph_matrix = graph_matrix / 50\n",
    "# graph_matrix = np.exp(graph_matrix)"
   ],
   "metadata": {
    "collapsed": false,
    "ExecuteTime": {
     "end_time": "2024-03-18T18:14:00.242743Z",
     "start_time": "2024-03-18T18:14:00.240118Z"
    }
   },
   "id": "321071579463c73b"
  },
  {
   "cell_type": "code",
   "execution_count": 3,
   "outputs": [
    {
     "data": {
      "text/plain": "array([[           -inf, -2.22471696e+02, -3.10974263e+02,\n        -2.27084000e+02, -2.60328534e+02, -1.89449299e+02,\n        -2.43601162e+02, -2.48997041e+02, -2.23753649e+02,\n        -2.64756995e+02, -9.39916897e+02, -2.42835762e+03],\n       [           -inf,            -inf, -1.08951302e+02,\n        -1.92892869e+01, -6.74574913e+01, -9.12104307e+00,\n        -3.54579394e+01, -2.88709594e+01, -5.44698631e+01,\n        -4.55250607e+01, -1.00690750e+03, -2.34891475e+03],\n       [           -inf, -1.31075226e+02,            -inf,\n        -1.43274745e+02, -1.82593658e+02, -1.28424607e+02,\n        -1.77026437e+02, -1.70952266e+02, -1.54096307e+02,\n        -1.67136799e+02, -1.18654141e+03, -2.43787294e+03],\n       [           -inf, -1.92463057e+01, -1.30495071e+02,\n                   -inf, -6.10705843e+01, -3.76192847e-01,\n        -6.69811737e+01, -5.65911621e+01, -7.24275962e+01,\n        -2.16541785e+01, -1.02179366e+03, -2.38423130e+03],\n       [           -inf, -7.09499538e+01, -1.80138105e+02,\n        -6.77140197e+01,            -inf, -5.78471962e+01,\n        -1.15152536e+02, -1.11501198e+02, -1.03865302e+02,\n        -9.64328505e+01, -1.09006859e+03, -2.52755728e+03],\n       [           -inf, -8.87000702e+00, -1.09281466e+02,\n        -2.54202488e-01, -5.23333629e+01,            -inf,\n        -5.71741873e+01, -5.18610203e+01, -6.38983861e+01,\n        -3.02647351e+01, -1.05013081e+03, -1.33227205e+03],\n       [           -inf, -3.79445702e+01, -1.62928960e+02,\n        -6.46476522e+01, -1.11770004e+02, -5.78969808e+01,\n                   -inf, -7.80283840e+01, -9.48501245e+01,\n        -8.65902349e+01, -7.55490352e+02, -1.72193107e+03],\n       [           -inf, -3.08417690e+01, -1.62499534e+02,\n        -5.74619029e+01, -1.11241611e+02, -5.31032856e+01,\n        -7.89442149e+01,            -inf, -8.82547220e+01,\n        -7.95123940e+01, -1.08539054e+03, -2.42031308e+03],\n       [           -inf, -6.28909014e+01, -1.80685926e+02,\n        -7.70752160e+01, -1.20355052e+02, -6.93757128e+01,\n        -1.01240201e+02, -1.00446136e+02,            -inf,\n        -1.06866200e+02, -1.08228415e+03, -2.25925300e+03],\n       [           -inf, -4.94742805e+01, -1.70293655e+02,\n        -2.23385896e+01, -9.65904868e+01, -3.19785492e+01,\n        -9.28388348e+01, -8.36231619e+01, -9.25237971e+01,\n                   -inf, -1.06617289e+03, -2.49987885e+03],\n       [           -inf, -1.01330659e+03, -1.15288800e+03,\n        -1.04616827e+03, -1.03363266e+03, -1.03671882e+03,\n        -1.09374542e+03, -1.07108954e+03, -8.03454476e+02,\n        -1.05400443e+03,            -inf, -2.86658542e+03],\n       [           -inf, -2.41461300e+03, -2.53484711e+03,\n        -2.52474564e+03, -2.53736323e+03, -2.43524584e+03,\n        -2.38736806e+03, -2.46741148e+03, -1.79672178e+03,\n        -2.42324792e+03, -2.83723041e+03,            -inf]])"
     },
     "execution_count": 3,
     "metadata": {},
     "output_type": "execute_result"
    }
   ],
   "source": [
    "import itertools\n",
    "K = 12\n",
    "ss = 500\n",
    "graph = nx.complete_graph(K, create_using=nx.DiGraph)\n",
    "for u, v in itertools.product(range(K), repeat=2):\n",
    "    if v == 0 or u == v:\n",
    "        graph_matrix[u, v] = -np.inf\n",
    "graph = reset_adj_matrix(graph, graph_matrix)\n",
    "nx.to_numpy_array(graph)"
   ],
   "metadata": {
    "collapsed": false,
    "ExecuteTime": {
     "end_time": "2024-03-18T18:14:00.254722Z",
     "start_time": "2024-03-18T18:14:00.249144Z"
    }
   },
   "id": "e6ef29c9321b0f63"
  },
  {
   "cell_type": "code",
   "execution_count": 4,
   "outputs": [
    {
     "data": {
      "text/plain": "<Figure size 640x480 with 1 Axes>",
      "image/png": "[encoded data removed]"
     },
     "metadata": {},
     "output_type": "display_data"
    }
   ],
   "source": [
    "# histogram\n",
    "g = sns.histplot(graph_matrix[~np.isinf(graph_matrix)])\n",
    "# TODO: find why such skewed matrix don't run successfully in tree sampling"
   ],
   "metadata": {
    "collapsed": false,
    "ExecuteTime": {
     "end_time": "2024-03-18T18:14:00.498481Z",
     "start_time": "2024-03-18T18:14:00.254381Z"
    }
   },
   "id": "7cac8019e667ae98"
  },
  {
   "cell_type": "code",
   "execution_count": 5,
   "outputs": [
    {
     "name": "stderr",
     "output_type": "stream",
     "text": [
      "/Users/zemp/PycharmProjects/treesampling/src/treesampling/utils/graphs.py:94: RuntimeWarning: invalid value encountered in subtract\n",
      "  adj_mat = adj_mat - np.logaddexp.reduce(adj_mat, axis=axis, keepdims=True)\n",
      "/Users/zemp/PycharmProjects/treesampling/src/treesampling/algorithms.py:314: RuntimeWarning: invalid value encountered in log\n",
      "  ry = - np.log(1 - np.exp(ry_1))\n"
     ]
    },
    {
     "data": {
      "text/plain": "[('(((2,(10)6,7,8)1,(9)3,4,11)5)0', 242),\n ('((((10)6,7,8)1,2,(9)3,4,11)5)0', 130),\n ('(((6,7,8,10)1,2,(9)3,4,11)5)0', 25),\n ('(((4,(10)6,7,8)1,2,(9)3,11)5)0', 25),\n ('(((2,4,(10)6,7,8)1,(9)3,11)5)0', 22),\n ('(((2,(10)6,7,8,11)1,(9)3,4)5)0', 21),\n ('(((2,6,7,8,10)1,(9)3,4,11)5)0', 19),\n ('((((10)6,7,8,11)1,2,(9)3,4)5)0', 16)]"
     },
     "execution_count": 5,
     "metadata": {},
     "output_type": "execute_result"
    }
   ],
   "source": [
    "# draw 100 trees and save them in dict\n",
    "sample = {}\n",
    "for i in range(ss):\n",
    "    tree = random_spanning_tree_log(graph, root=0, trick=False)\n",
    "    tnwk = tree_to_newick(tree)\n",
    "    if tnwk not in sample:\n",
    "        sample[tnwk] = 0\n",
    "    sample[tnwk] += 1\n",
    "\n",
    "sorted(sample.items(), key=lambda a: a[1], reverse=True)"
   ],
   "metadata": {
    "collapsed": false,
    "ExecuteTime": {
     "end_time": "2024-03-18T18:14:04.441445Z",
     "start_time": "2024-03-18T18:14:00.510554Z"
    }
   },
   "id": "fe6be99cdb895fe4"
  },
  {
   "cell_type": "code",
   "execution_count": 5,
   "outputs": [],
   "source": [],
   "metadata": {
    "collapsed": false,
    "ExecuteTime": {
     "end_time": "2024-03-18T18:14:04.444455Z",
     "start_time": "2024-03-18T18:14:04.440516Z"
    }
   },
   "id": "de9024e3051360f"
  }
 ],
 "metadata": {
  "kernelspec": {
   "display_name": "Python 3",
   "language": "python",
   "name": "python3"
  },
  "language_info": {
   "codemirror_mode": {
    "name": "ipython",
    "version": 2
   },
   "file_extension": ".py",
   "mimetype": "text/x-python",
   "name": "python",
   "nbconvert_exporter": "python",
   "pygments_lexer": "ipython2",
   "version": "2.7.6"
  }
 },
 "nbformat": 4,
 "nbformat_minor": 5
}
