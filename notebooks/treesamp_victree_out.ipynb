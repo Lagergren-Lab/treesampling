{
 "cells": [
  {
   "cell_type": "markdown",
   "source": [
    "# Analysis of VICTree output tree matrix"
   ],
   "metadata": {
    "collapsed": false
   },
   "id": "b08d8a20166d615b"
  },
  {
   "cell_type": "code",
   "execution_count": 11,
   "outputs": [],
   "source": [
    "import h5py\n",
    "import numpy as np\n",
    "import networkx as nx\n",
    "import seaborn as sns\n",
    "from treesampling.algorithms import random_spanning_tree_log\n",
    "from treesampling.utils.graphs import reset_adj_matrix, tree_to_newick"
   ],
   "metadata": {
    "collapsed": false,
    "ExecuteTime": {
     "end_time": "2024-03-12T14:20:46.420066Z",
     "start_time": "2024-03-12T14:20:46.388441Z"
    }
   },
   "id": "initial_id"
  },
  {
   "cell_type": "code",
   "execution_count": 25,
   "outputs": [],
   "source": [
    "# load h5 file\n",
    "vic_out = h5py.File(\"/Users/zemp/phd/scilife/victree-experiments/SA501X3F/victree-out/K12/victree.out.h5ad\", 'r')\n",
    "graph_matrix = vic_out['uns']['victree-tree-graph'][:]\n",
    "# tempering:\n",
    "graph_matrix = graph_matrix / 50\n",
    "# graph_matrix = np.exp(graph_matrix)"
   ],
   "metadata": {
    "collapsed": false,
    "ExecuteTime": {
     "end_time": "2024-03-12T14:21:51.069529Z",
     "start_time": "2024-03-12T14:21:51.064744Z"
    }
   },
   "id": "321071579463c73b"
  },
  {
   "cell_type": "code",
   "execution_count": 26,
   "outputs": [
    {
     "data": {
      "text/plain": "array([[           -inf, -4.44943391e+00, -6.21948526e+00,\n        -4.54168001e+00, -5.20657067e+00, -3.78898597e+00,\n        -4.87202323e+00, -4.97994083e+00, -4.47507298e+00,\n        -5.29513991e+00, -1.87983379e+01, -4.85671524e+01],\n       [           -inf,            -inf, -2.17902605e+00,\n        -3.85785737e-01, -1.34914983e+00, -1.82420861e-01,\n        -7.09158787e-01, -5.77419189e-01, -1.08939726e+00,\n        -9.10501213e-01, -2.01381500e+01, -4.69782951e+01],\n       [           -inf, -2.62150452e+00,            -inf,\n        -2.86549491e+00, -3.65187316e+00, -2.56849214e+00,\n        -3.54052873e+00, -3.41904533e+00, -3.08192613e+00,\n        -3.34273598e+00, -2.37308283e+01, -4.87574587e+01],\n       [           -inf, -3.84926114e-01, -2.60990143e+00,\n                   -inf, -1.22141169e+00, -7.52385695e-03,\n        -1.33962347e+00, -1.13182324e+00, -1.44855192e+00,\n        -4.33083570e-01, -2.04358733e+01, -4.76846260e+01],\n       [           -inf, -1.41899908e+00, -3.60276211e+00,\n        -1.35428039e+00,            -inf, -1.15694392e+00,\n        -2.30305071e+00, -2.23002396e+00, -2.07730604e+00,\n        -1.92865701e+00, -2.18013718e+01, -5.05511456e+01],\n       [           -inf, -1.77400140e-01, -2.18562933e+00,\n        -5.08404976e-03, -1.04666726e+00,            -inf,\n        -1.14348375e+00, -1.03722041e+00, -1.27796772e+00,\n        -6.05294703e-01, -2.10026162e+01, -2.66454410e+01],\n       [           -inf, -7.58891405e-01, -3.25857919e+00,\n        -1.29295304e+00, -2.23540008e+00, -1.15793962e+00,\n                   -inf, -1.56056768e+00, -1.89700249e+00,\n        -1.73180470e+00, -1.51098070e+01, -3.44386215e+01],\n       [           -inf, -6.16835379e-01, -3.24999068e+00,\n        -1.14923806e+00, -2.22483222e+00, -1.06206571e+00,\n        -1.57888430e+00,            -inf, -1.76509444e+00,\n        -1.59024788e+00, -2.17078109e+01, -4.84062617e+01],\n       [           -inf, -1.25781803e+00, -3.61371851e+00,\n        -1.54150432e+00, -2.40710103e+00, -1.38751426e+00,\n        -2.02480403e+00, -2.00892272e+00,            -inf,\n        -2.13732401e+00, -2.16456831e+01, -4.51850599e+01],\n       [           -inf, -9.89485610e-01, -3.40587309e+00,\n        -4.46771791e-01, -1.93180974e+00, -6.39570983e-01,\n        -1.85677670e+00, -1.67246324e+00, -1.85047594e+00,\n                   -inf, -2.13234577e+01, -4.99975770e+01],\n       [           -inf, -2.02661317e+01, -2.30577599e+01,\n        -2.09233654e+01, -2.06726531e+01, -2.07343764e+01,\n        -2.18749084e+01, -2.14217908e+01, -1.60690895e+01,\n        -2.10800887e+01,            -inf, -5.73317085e+01],\n       [           -inf, -4.82922599e+01, -5.06969422e+01,\n        -5.04949128e+01, -5.07472645e+01, -4.87049167e+01,\n        -4.77473611e+01, -4.93482296e+01, -3.59344356e+01,\n        -4.84649585e+01, -5.67446083e+01,            -inf]])"
     },
     "execution_count": 26,
     "metadata": {},
     "output_type": "execute_result"
    }
   ],
   "source": [
    "import itertools\n",
    "K = 12\n",
    "ss = 500\n",
    "graph = nx.complete_graph(K, create_using=nx.DiGraph)\n",
    "for u, v in itertools.product(range(K), repeat=2):\n",
    "    if v == 0 or u == v:\n",
    "        graph_matrix[u, v] = -np.inf\n",
    "graph = reset_adj_matrix(graph, graph_matrix)\n",
    "nx.to_numpy_array(graph)"
   ],
   "metadata": {
    "collapsed": false,
    "ExecuteTime": {
     "end_time": "2024-03-12T14:21:51.227715Z",
     "start_time": "2024-03-12T14:21:51.216249Z"
    }
   },
   "id": "e6ef29c9321b0f63"
  },
  {
   "cell_type": "code",
   "execution_count": 27,
   "outputs": [
    {
     "data": {
      "text/plain": "<Figure size 640x480 with 1 Axes>",
      "image/png": "[encoded data removed]"
     },
     "metadata": {},
     "output_type": "display_data"
    }
   ],
   "source": [
    "# histogram\n",
    "g = sns.histplot(graph_matrix[~np.isinf(graph_matrix)])\n",
    "# TODO: find why such skewed matrix don't run successfully in tree sampling"
   ],
   "metadata": {
    "collapsed": false,
    "ExecuteTime": {
     "end_time": "2024-03-12T14:21:51.863469Z",
     "start_time": "2024-03-12T14:21:51.695198Z"
    }
   },
   "id": "7cac8019e667ae98"
  },
  {
   "cell_type": "code",
   "execution_count": 28,
   "outputs": [
    {
     "name": "stderr",
     "output_type": "stream",
     "text": [
      "/Users/zemp/PycharmProjects/treesampling/treesampling/utils/graphs.py:63: RuntimeWarning: invalid value encountered in subtract\n",
      "  adj_mat = adj_mat - np.logaddexp.reduce(adj_mat, axis=axis, keepdims=True)\n",
      "/Users/zemp/PycharmProjects/treesampling/treesampling/utils/math.py:13: RuntimeWarning: divide by zero encountered in log\n",
      "  \n",
      "/Users/zemp/PycharmProjects/treesampling/treesampling/utils/math.py:6: RuntimeWarning: invalid value encountered in scalar add\n",
      "  if np.isclose(dx, 0):\n"
     ]
    },
    {
     "ename": "AssertionError",
     "evalue": "l1: 0.014204401979897939, l2: nan",
     "output_type": "error",
     "traceback": [
      "\u001B[0;31m---------------------------------------------------------------------------\u001B[0m",
      "\u001B[0;31mAssertionError\u001B[0m                            Traceback (most recent call last)",
      "Cell \u001B[0;32mIn[28], line 4\u001B[0m\n\u001B[1;32m      2\u001B[0m sample \u001B[38;5;241m=\u001B[39m {}\n\u001B[1;32m      3\u001B[0m \u001B[38;5;28;01mfor\u001B[39;00m i \u001B[38;5;129;01min\u001B[39;00m \u001B[38;5;28mrange\u001B[39m(ss):\n\u001B[0;32m----> 4\u001B[0m     tree \u001B[38;5;241m=\u001B[39m \u001B[43mjens_rst_log\u001B[49m\u001B[43m(\u001B[49m\u001B[43mgraph\u001B[49m\u001B[43m,\u001B[49m\u001B[43m \u001B[49m\u001B[43mroot\u001B[49m\u001B[38;5;241;43m=\u001B[39;49m\u001B[38;5;241;43m0\u001B[39;49m\u001B[43m)\u001B[49m\n\u001B[1;32m      5\u001B[0m     tnwk \u001B[38;5;241m=\u001B[39m tree_to_newick(tree)\n\u001B[1;32m      6\u001B[0m     \u001B[38;5;28;01mif\u001B[39;00m tnwk \u001B[38;5;129;01mnot\u001B[39;00m \u001B[38;5;129;01min\u001B[39;00m sample:\n",
      "File \u001B[0;32m~/PycharmProjects/treesampling/treesampling/algorithms.py:252\u001B[0m, in \u001B[0;36mjens_rst_log\u001B[0;34m(in_graph, root, trick)\u001B[0m\n\u001B[1;32m    250\u001B[0m \u001B[38;5;66;03m# update Wx table\u001B[39;00m\n\u001B[1;32m    251\u001B[0m \u001B[38;5;28;01mif\u001B[39;00m trick:\n\u001B[0;32m--> 252\u001B[0m     wx_table \u001B[38;5;241m=\u001B[39m \u001B[43m_update_wx_log\u001B[49m\u001B[43m(\u001B[49m\u001B[43mwx_table\u001B[49m\u001B[43m,\u001B[49m\u001B[43m \u001B[49m\u001B[43mi_vertex\u001B[49m\u001B[43m)\u001B[49m\n\u001B[1;32m    253\u001B[0m \u001B[38;5;28;01melse\u001B[39;00m:\n\u001B[1;32m    254\u001B[0m     wx_table \u001B[38;5;241m=\u001B[39m _compute_wx_table_log(graph, x_list)\n",
      "File \u001B[0;32m~/PycharmProjects/treesampling/treesampling/algorithms.py:208\u001B[0m, in \u001B[0;36m_update_wx_log\u001B[0;34m(wy_table, u)\u001B[0m\n\u001B[1;32m    206\u001B[0m \u001B[38;5;28;01mfor\u001B[39;00m (v, w) \u001B[38;5;129;01min\u001B[39;00m wy_table\u001B[38;5;241m.\u001B[39mkeys():\n\u001B[1;32m    207\u001B[0m     \u001B[38;5;28;01mif\u001B[39;00m v \u001B[38;5;241m!=\u001B[39m u \u001B[38;5;129;01mand\u001B[39;00m w \u001B[38;5;241m!=\u001B[39m u:\n\u001B[0;32m--> 208\u001B[0m         wx_table[v, w] \u001B[38;5;241m=\u001B[39m \u001B[43mlogsubexp\u001B[49m\u001B[43m(\u001B[49m\u001B[43mwy_table\u001B[49m\u001B[43m[\u001B[49m\u001B[43mv\u001B[49m\u001B[43m,\u001B[49m\u001B[43m \u001B[49m\u001B[43mw\u001B[49m\u001B[43m]\u001B[49m\u001B[43m,\u001B[49m\u001B[43m \u001B[49m\u001B[43mwy_table\u001B[49m\u001B[43m[\u001B[49m\u001B[43mv\u001B[49m\u001B[43m,\u001B[49m\u001B[43m \u001B[49m\u001B[43mu\u001B[49m\u001B[43m]\u001B[49m\u001B[43m \u001B[49m\u001B[38;5;241;43m+\u001B[39;49m\u001B[43m \u001B[49m\u001B[43mwy_table\u001B[49m\u001B[43m[\u001B[49m\u001B[43mu\u001B[49m\u001B[43m,\u001B[49m\u001B[43m \u001B[49m\u001B[43mw\u001B[49m\u001B[43m]\u001B[49m\u001B[43m \u001B[49m\u001B[38;5;241;43m-\u001B[39;49m\u001B[43m \u001B[49m\u001B[43mwy_table\u001B[49m\u001B[43m[\u001B[49m\u001B[43mu\u001B[49m\u001B[43m,\u001B[49m\u001B[43m \u001B[49m\u001B[43mu\u001B[49m\u001B[43m]\u001B[49m\u001B[43m)\u001B[49m\n\u001B[1;32m    209\u001B[0m \u001B[38;5;28;01mreturn\u001B[39;00m wx_table\n",
      "File \u001B[0;32m~/PycharmProjects/treesampling/treesampling/utils/math.py:10\u001B[0m, in \u001B[0;36mlogsubexp\u001B[0;34m(l1, l2)\u001B[0m\n\u001B[1;32m      8\u001B[0m \u001B[38;5;28;01melse\u001B[39;00m:\n\u001B[1;32m      9\u001B[0m     \u001B[38;5;28;01massert\u001B[39;00m l1 \u001B[38;5;241m>\u001B[39m\u001B[38;5;241m=\u001B[39m l2, \u001B[38;5;124mf\u001B[39m\u001B[38;5;124m\"\u001B[39m\u001B[38;5;124ml1: \u001B[39m\u001B[38;5;132;01m{\u001B[39;00ml1\u001B[38;5;132;01m}\u001B[39;00m\u001B[38;5;124m, l2: \u001B[39m\u001B[38;5;132;01m{\u001B[39;00ml2\u001B[38;5;132;01m}\u001B[39;00m\u001B[38;5;124m\"\u001B[39m\n\u001B[0;32m---> 10\u001B[0m     exp_x \u001B[38;5;241m=\u001B[39m np\u001B[38;5;241m.\u001B[39mexp(dx)\n\u001B[1;32m     12\u001B[0m \u001B[38;5;28;01mreturn\u001B[39;00m l1 \u001B[38;5;241m+\u001B[39m np\u001B[38;5;241m.\u001B[39mlog(\u001B[38;5;241m1\u001B[39m \u001B[38;5;241m-\u001B[39m exp_x)\n",
      "\u001B[0;31mAssertionError\u001B[0m: l1: 0.014204401979897939, l2: nan"
     ]
    }
   ],
   "source": [
    "# draw 100 trees and save them in dict\n",
    "sample = {}\n",
    "for i in range(ss):\n",
    "    tree = random_spanning_tree_log(graph, root=0)\n",
    "    tnwk = tree_to_newick(tree)\n",
    "    if tnwk not in sample:\n",
    "        sample[tnwk] = 0\n",
    "    sample[tnwk] += 1\n",
    "\n",
    "sorted(sample.items(), key=lambda a: a[1], reverse=True)"
   ],
   "metadata": {
    "collapsed": false,
    "ExecuteTime": {
     "end_time": "2024-03-12T14:21:52.181777Z",
     "start_time": "2024-03-12T14:21:51.997399Z"
    }
   },
   "id": "fe6be99cdb895fe4"
  },
  {
   "cell_type": "code",
   "execution_count": null,
   "outputs": [],
   "source": [],
   "metadata": {
    "collapsed": false
   },
   "id": "de9024e3051360f"
  }
 ],
 "metadata": {
  "kernelspec": {
   "display_name": "Python 3",
   "language": "python",
   "name": "python3"
  },
  "language_info": {
   "codemirror_mode": {
    "name": "ipython",
    "version": 2
   },
   "file_extension": ".py",
   "mimetype": "text/x-python",
   "name": "python",
   "nbconvert_exporter": "python",
   "pygments_lexer": "ipython2",
   "version": "2.7.6"
  }
 },
 "nbformat": 4,
 "nbformat_minor": 5
}
